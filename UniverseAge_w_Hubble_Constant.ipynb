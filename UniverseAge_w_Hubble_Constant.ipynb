{
  "nbformat": 4,
  "nbformat_minor": 0,
  "metadata": {
    "colab": {
      "provenance": [],
      "authorship_tag": "ABX9TyOw5Xbx/eU51E9Ad0YBl3yI",
      "include_colab_link": true
    },
    "kernelspec": {
      "name": "python3",
      "display_name": "Python 3"
    },
    "language_info": {
      "name": "python"
    }
  },
  "cells": [
    {
      "cell_type": "markdown",
      "metadata": {
        "id": "view-in-github",
        "colab_type": "text"
      },
      "source": [
        "<a href=\"https://colab.research.google.com/github/Tsxkii/AstroDataAnalysis/blob/main/UniverseAge_w_Hubble_Constant.ipynb\" target=\"_parent\"><img src=\"https://colab.research.google.com/assets/colab-badge.svg\" alt=\"Open In Colab\"/></a>"
      ]
    },
    {
      "cell_type": "code",
      "execution_count": 12,
      "metadata": {
        "colab": {
          "base_uri": "https://localhost:8080/"
        },
        "id": "94ahNMHdJ0l5",
        "outputId": "6de4a15e-c3a3-462b-f751-009a6d7acd5f"
      },
      "outputs": [
        {
          "output_type": "stream",
          "name": "stdout",
          "text": [
            "Requirement already satisfied: astropy in /usr/local/lib/python3.10/dist-packages (6.1.3)\n",
            "Requirement already satisfied: numpy>=1.23 in /usr/local/lib/python3.10/dist-packages (from astropy) (1.26.4)\n",
            "Requirement already satisfied: pyerfa>=2.0.1.1 in /usr/local/lib/python3.10/dist-packages (from astropy) (2.0.1.4)\n",
            "Requirement already satisfied: astropy-iers-data>=0.2024.7.29.0.32.7 in /usr/local/lib/python3.10/dist-packages (from astropy) (0.2024.9.16.0.32.21)\n",
            "Requirement already satisfied: PyYAML>=3.13 in /usr/local/lib/python3.10/dist-packages (from astropy) (6.0.2)\n",
            "Requirement already satisfied: packaging>=19.0 in /usr/local/lib/python3.10/dist-packages (from astropy) (24.1)\n"
          ]
        }
      ],
      "source": [
        "!pip install astropy # Install astropy\n",
        "import astropy.units as u # Import correct astropy units\n",
        "#\n"
      ]
    },
    {
      "cell_type": "markdown",
      "source": [
        "Age of the universe = $\\frac{1}{H_0}$, with ${H_0}$ being the hubble constant is the equation to estimate the age of the universe. Assume Hubble constant is 70 km/s/Mpc\n"
      ],
      "metadata": {
        "id": "_J_blAHkJ7u7"
      }
    },
    {
      "cell_type": "code",
      "source": [
        "H_0 = 70 * u.km/u.s/u.Mpc\n",
        "print(H_0)\n"
      ],
      "metadata": {
        "colab": {
          "base_uri": "https://localhost:8080/"
        },
        "id": "EsZOkh2EKIVP",
        "outputId": "8992a8aa-cb2f-4b9e-de89-80cfc4529c35"
      },
      "execution_count": 13,
      "outputs": [
        {
          "output_type": "stream",
          "name": "stdout",
          "text": [
            "70.0 km / (Mpc s)\n"
          ]
        }
      ]
    },
    {
      "source": [
        "H_0_in_s = (1/H_0).to(u.s) # Invert H_0 to get time and then convert to seconds\n",
        "print(H_0_in_s)"
      ],
      "cell_type": "code",
      "metadata": {
        "colab": {
          "base_uri": "https://localhost:8080/"
        },
        "id": "ISzOGX0cYA9H",
        "outputId": "7515b0ee-8db8-4573-84b2-86aac2e97b4d"
      },
      "execution_count": 14,
      "outputs": [
        {
          "output_type": "stream",
          "name": "stdout",
          "text": [
            "4.4081108307019526e+17 s\n"
          ]
        }
      ]
    },
    {
      "cell_type": "code",
      "source": [
        "age_in_sec = H_0_in_s\n",
        "print(age_in_sec)\n"
      ],
      "metadata": {
        "colab": {
          "base_uri": "https://localhost:8080/"
        },
        "id": "dQlHBZqSXryR",
        "outputId": "5b84db75-08f7-401b-8cae-331b88c9477f"
      },
      "execution_count": 15,
      "outputs": [
        {
          "output_type": "stream",
          "name": "stdout",
          "text": [
            "4.4081108307019526e+17 s\n"
          ]
        }
      ]
    },
    {
      "cell_type": "code",
      "source": [
        "YearAge = age_in_sec.to(u.yr) # Convert to years\n",
        "print(YearAge) #Should be abt 13.8 billion years old"
      ],
      "metadata": {
        "colab": {
          "base_uri": "https://localhost:8080/"
        },
        "id": "OpC3jqybXyCU",
        "outputId": "8f7eeb65-aeed-4d72-9cd6-c3fc2357c281"
      },
      "execution_count": 16,
      "outputs": [
        {
          "output_type": "stream",
          "name": "stdout",
          "text": [
            "13968460309.725557 yr\n"
          ]
        }
      ]
    }
  ]
}