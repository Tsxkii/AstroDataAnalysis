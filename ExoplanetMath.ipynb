{
  "nbformat": 4,
  "nbformat_minor": 0,
  "metadata": {
    "colab": {
      "provenance": [],
      "authorship_tag": "ABX9TyOF7bktkJSNKfwfNCigzPaU",
      "include_colab_link": true
    },
    "kernelspec": {
      "name": "python3",
      "display_name": "Python 3"
    },
    "language_info": {
      "name": "python"
    }
  },
  "cells": [
    {
      "cell_type": "markdown",
      "metadata": {
        "id": "view-in-github",
        "colab_type": "text"
      },
      "source": [
        "<a href=\"https://colab.research.google.com/github/Tsxkii/AstroDataAnalysis/blob/main/ExoplanetMath.ipynb\" target=\"_parent\"><img src=\"https://colab.research.google.com/assets/colab-badge.svg\" alt=\"Open In Colab\"/></a>"
      ]
    },
    {
      "cell_type": "code",
      "execution_count": 11,
      "metadata": {
        "id": "NX0b9q38fttF"
      },
      "outputs": [],
      "source": [
        "import astropy.units as u\n",
        "import astropy.constants as c\n",
        ""
      ]
    },
    {
      "cell_type": "code",
      "source": [
        "# Calculate the ratio of the Earth's radius squared to the Sun's radius squared.\n",
        "delta_earth_sun = (u.earthRad / u.solRad)**2"
      ],
      "metadata": {
        "id": "04jIL20pf3uS"
      },
      "execution_count": 12,
      "outputs": []
    },
    {
      "cell_type": "code",
      "source": [
        "print(delta_earth_sun.decompose())"
      ],
      "metadata": {
        "colab": {
          "base_uri": "https://localhost:8080/"
        },
        "id": "X8BLFP72f_Ly",
        "outputId": "6017fa29-4cf6-4ca2-9d3d-e07b52a04509"
      },
      "execution_count": 13,
      "outputs": [
        {
          "output_type": "stream",
          "name": "stdout",
          "text": [
            "8.40502e-05\n"
          ]
        }
      ]
    },
    {
      "cell_type": "code",
      "source": [
        "delta_jupiter_sun = (u.jupiterRad / u.solRad)**2 #ratio of Jupiter's radius squared to the Sun's radius squared."
      ],
      "metadata": {
        "id": "247uknjygCO4"
      },
      "execution_count": 14,
      "outputs": []
    },
    {
      "cell_type": "code",
      "source": [
        "print(delta_jupiter_sun.decompose())"
      ],
      "metadata": {
        "colab": {
          "base_uri": "https://localhost:8080/"
        },
        "id": "zZIWu-EXgF9-",
        "outputId": "1a5dec9f-4c6a-4a63-b588-f5064b8fa2a8"
      },
      "execution_count": 15,
      "outputs": [
        {
          "output_type": "stream",
          "name": "stdout",
          "text": [
            "0.0105602\n"
          ]
        }
      ]
    },
    {
      "cell_type": "code",
      "source": [
        "import numpy as np\n",
        "# Calculate the Earth's orbital velocity where G is the gravitational constant, M is the Sun's mass, and r is the Earth's orbital radius (1 AU).\n",
        "v_orb_earth = np.sqrt(c.G * u.solMass / u.AU)\n",
        "print(v_orb_earth.to(u.m / u.s))\n",
        ""
      ],
      "metadata": {
        "colab": {
          "base_uri": "https://localhost:8080/"
        },
        "id": "_gvIXwGMgJZc",
        "outputId": "e6463711-5722-46b2-c26b-9cce36bf71da"
      },
      "execution_count": 16,
      "outputs": [
        {
          "output_type": "stream",
          "name": "stdout",
          "text": [
            "29784.691829676933 m / s\n"
          ]
        }
      ]
    },
    {
      "cell_type": "code",
      "source": [
        "#Sun's velocity relative to the center of mass of the solar system,assuming a two-body system (Sun and Earth).\n",
        "# conservation of momentum: m1*v1 = m2*v2.\n",
        "\n",
        "v_sun = u.earthMass / u.solMass * v_orb_earth\n",
        "print(v_sun.to(u.m / u.s))"
      ],
      "metadata": {
        "colab": {
          "base_uri": "https://localhost:8080/"
        },
        "id": "QcrPe7VOgMFu",
        "outputId": "a2061c16-6e84-44e4-df69-3f6362ec3480"
      },
      "execution_count": 17,
      "outputs": [
        {
          "output_type": "stream",
          "name": "stdout",
          "text": [
            "0.08945800466923791 m / s\n"
          ]
        }
      ]
    },
    {
      "cell_type": "code",
      "source": [
        "#Sun's reflex velocity due to Jupiter using the formula derived from astrometry\n",
        "#K is the radial velocity semi-amplitude of the Sun due to Earth (approx. 0.09 m/s)\n",
        "#M_jupiter and M_earth are the masses of Jupiter and Earth, respectively\n",
        "#P_jupiter is Jupiter's orbital period (11.9 years)\n",
        "v_s_jupiter = 0.09 * u.m / u.s * (u.jupiterMass / u.earthMass) * (11.9 * u.yr / u.yr)**(-1.0/3.0)\n",
        "print(v_s_jupiter.to(u.m / u.s))\n",
        ""
      ],
      "metadata": {
        "colab": {
          "base_uri": "https://localhost:8080/"
        },
        "id": "kl_7sjvegObh",
        "outputId": "73942537-e666-417a-f246-10f794360dac"
      },
      "execution_count": 18,
      "outputs": [
        {
          "output_type": "stream",
          "name": "stdout",
          "text": [
            "12.529091077198903 m / s\n"
          ]
        }
      ]
    },
    {
      "cell_type": "code",
      "source": [
        "(u.jupiterMass / u.earthMass).decompose() #ratio of Jupiter's mass to Earth's mass in base units."
      ],
      "metadata": {
        "colab": {
          "base_uri": "https://localhost:8080/",
          "height": 37
        },
        "id": "tJC_1nO7gQpK",
        "outputId": "a9f3afad-734c-416d-fdca-bb8b53452c2a"
      },
      "execution_count": 19,
      "outputs": [
        {
          "output_type": "execute_result",
          "data": {
            "text/plain": [
              "Unit(dimensionless with a scale of 317.8284065946748)"
            ],
            "text/latex": "$\\mathrm{317.82841}$"
          },
          "metadata": {},
          "execution_count": 19
        }
      ]
    },
    {
      "cell_type": "code",
      "source": [
        "rho_earth = u.earthMass / (4 * np.pi * u.earthRad**3 / 3.0) #average density of Earth using the formula: density = mass / volume\n",
        "print(rho_earth.to(u.g / u.cm**3))"
      ],
      "metadata": {
        "colab": {
          "base_uri": "https://localhost:8080/"
        },
        "id": "_4HM_ZFOgTMH",
        "outputId": "f4ab2adf-a615-4114-8f9c-0067b5d3b16a"
      },
      "execution_count": 20,
      "outputs": [
        {
          "output_type": "stream",
          "name": "stdout",
          "text": [
            "5.495021865555213 g / cm3\n"
          ]
        }
      ]
    }
  ]
}