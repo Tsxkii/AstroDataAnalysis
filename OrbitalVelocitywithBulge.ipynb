{
  "nbformat": 4,
  "nbformat_minor": 0,
  "metadata": {
    "colab": {
      "provenance": [],
      "authorship_tag": "ABX9TyMUXAyFKy9prMq92APfBvkK",
      "include_colab_link": true
    },
    "kernelspec": {
      "name": "python3",
      "display_name": "Python 3"
    },
    "language_info": {
      "name": "python"
    }
  },
  "cells": [
    {
      "cell_type": "markdown",
      "metadata": {
        "id": "view-in-github",
        "colab_type": "text"
      },
      "source": [
        "<a href=\"https://colab.research.google.com/github/Tsxkii/AstroDataAnalysis/blob/main/OrbitalVelocitywithBulge.ipynb\" target=\"_parent\"><img src=\"https://colab.research.google.com/assets/colab-badge.svg\" alt=\"Open In Colab\"/></a>"
      ]
    },
    {
      "cell_type": "code",
      "execution_count": 37,
      "metadata": {
        "id": "1k0yZXDsNEU3"
      },
      "outputs": [],
      "source": [
        "import astropy.units as u\n",
        "from astropy import constants as const\n",
        "import numpy as np"
      ]
    },
    {
      "cell_type": "markdown",
      "source": [
        "$r_s = {2*G*M}/{c^2}$ this is the equation for the schwarzchild radius.\n"
      ],
      "metadata": {
        "id": "jMd7JfkkNiku"
      }
    },
    {
      "cell_type": "markdown",
      "source": [
        "$V = \\sqrt\\frac{GM}{R}$, this is the equation used to calculate orbital velocity.\n"
      ],
      "metadata": {
        "id": "hjlJEP5TNp9e"
      }
    },
    {
      "cell_type": "code",
      "source": [
        "G = const.G\n",
        "M = 4.297e6*u.Msun\n",
        "r = .1*u.kpc"
      ],
      "metadata": {
        "id": "MjGFyGGqNrs8"
      },
      "execution_count": 38,
      "outputs": []
    },
    {
      "cell_type": "code",
      "source": [
        "print(G.si)\n",
        "print(M)\n",
        "print(r)"
      ],
      "metadata": {
        "colab": {
          "base_uri": "https://localhost:8080/"
        },
        "id": "zu_K7pxGPjwE",
        "outputId": "3a303053-5259-4372-96cd-e102657636bf"
      },
      "execution_count": 39,
      "outputs": [
        {
          "output_type": "stream",
          "name": "stdout",
          "text": [
            "  Name   = Gravitational constant\n",
            "  Value  = 6.6743e-11\n",
            "  Uncertainty  = 1.5e-15\n",
            "  Unit  = m3 / (kg s2)\n",
            "  Reference = CODATA 2018\n",
            "4297000.0 solMass\n",
            "0.1 kpc\n"
          ]
        }
      ]
    },
    {
      "cell_type": "code",
      "source": [
        "V = np.sqrt((G*M)/r)\n",
        "print(V.to(u.km/u.s))"
      ],
      "metadata": {
        "colab": {
          "base_uri": "https://localhost:8080/"
        },
        "id": "jFbM2VGnP7-H",
        "outputId": "1a22363b-323c-47d9-8589-d9edc485885f"
      },
      "execution_count": 43,
      "outputs": [
        {
          "output_type": "stream",
          "name": "stdout",
          "text": [
            "13.594499442548775 km / s\n"
          ]
        }
      ]
    }
  ]
}