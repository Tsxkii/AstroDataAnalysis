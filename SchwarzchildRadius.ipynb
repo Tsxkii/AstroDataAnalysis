{
  "nbformat": 4,
  "nbformat_minor": 0,
  "metadata": {
    "colab": {
      "provenance": [],
      "authorship_tag": "ABX9TyMTo7v3gaj06pUPr5DipNZn",
      "include_colab_link": true
    },
    "kernelspec": {
      "name": "python3",
      "display_name": "Python 3"
    },
    "language_info": {
      "name": "python"
    }
  },
  "cells": [
    {
      "cell_type": "markdown",
      "metadata": {
        "id": "view-in-github",
        "colab_type": "text"
      },
      "source": [
        "<a href=\"https://colab.research.google.com/github/Tsxkii/AstroDataAnalysis/blob/main/SchwarzchildRadius.ipynb\" target=\"_parent\"><img src=\"https://colab.research.google.com/assets/colab-badge.svg\" alt=\"Open In Colab\"/></a>"
      ]
    },
    {
      "cell_type": "code",
      "execution_count": 8,
      "metadata": {
        "id": "RJsBWyDCJCvP"
      },
      "outputs": [],
      "source": [
        "import astropy.constants as const # imports the astropy constants(Python package to call the value of certain constants)\n",
        "import astropy.units as u # imports the astropy units library(Python package to call the value of certain units e.g., the mass of the Sun)\n",
        "import numpy as np\n"
      ]
    },
    {
      "cell_type": "markdown",
      "source": [
        "$r_s = {2*G*M}/{c^2}$ this is the equation for the schwarzchild radius.\n"
      ],
      "metadata": {
        "id": "duVqfNy_KLjF"
      }
    },
    {
      "cell_type": "code",
      "source": [
        "import astropy.units as u\n",
        "from astropy import constants as const\n",
        "\n",
        "G = const.G.to(u.km**3/u.s**2/u.kg)\n",
        "M = 1 * u.solMass.to(u.kg)\n",
        "c = const.c.to(u.km/u.s)"
      ],
      "metadata": {
        "id": "Wfo5Oh89KM7x"
      },
      "execution_count": 11,
      "outputs": []
    },
    {
      "cell_type": "code",
      "source": [
        "print(G)\n",
        "print(M)\n",
        "print(c)\n",
        "#\n"
      ],
      "metadata": {
        "colab": {
          "base_uri": "https://localhost:8080/"
        },
        "id": "zvPHtrafLgGF",
        "outputId": "4999c4d5-5d82-445d-ff83-b6aca5f07a62"
      },
      "execution_count": 12,
      "outputs": [
        {
          "output_type": "stream",
          "name": "stdout",
          "text": [
            "6.6743e-20 km3 / (kg s2)\n",
            "1.988409870698051e+30\n",
            "299792.458 km / s\n"
          ]
        }
      ]
    },
    {
      "cell_type": "code",
      "source": [
        "r_s = (G * M) / (c**2)\n",
        "print(r_s)"
      ],
      "metadata": {
        "colab": {
          "base_uri": "https://localhost:8080/"
        },
        "id": "D5T4K1XoLrAe",
        "outputId": "9e9cdae8-cc63-416e-9530-5a9b168d8713"
      },
      "execution_count": 13,
      "outputs": [
        {
          "output_type": "stream",
          "name": "stdout",
          "text": [
            "1.4766250380501251 km / kg\n"
          ]
        }
      ]
    }
  ]
}