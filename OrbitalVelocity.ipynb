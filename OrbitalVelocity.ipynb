{
  "nbformat": 4,
  "nbformat_minor": 0,
  "metadata": {
    "colab": {
      "provenance": [],
      "authorship_tag": "ABX9TyPX4oTsBKOjBfjldyBlVn3+",
      "include_colab_link": true
    },
    "kernelspec": {
      "name": "python3",
      "display_name": "Python 3"
    },
    "language_info": {
      "name": "python"
    }
  },
  "cells": [
    {
      "cell_type": "markdown",
      "metadata": {
        "id": "view-in-github",
        "colab_type": "text"
      },
      "source": [
        "<a href=\"https://colab.research.google.com/github/Tsxkii/AstroDataAnalysis/blob/main/OrbitalVelocity.ipynb\" target=\"_parent\"><img src=\"https://colab.research.google.com/assets/colab-badge.svg\" alt=\"Open In Colab\"/></a>"
      ]
    },
    {
      "cell_type": "markdown",
      "source": [
        "$V = \\sqrt\\frac{GM}{R}$, this is the equation used to calculate orbital velocity.\n",
        "\n"
      ],
      "metadata": {
        "id": "Nr7b0WIe4HKo"
      }
    },
    {
      "cell_type": "code",
      "execution_count": null,
      "metadata": {
        "id": "uIvCKr6I35eo"
      },
      "outputs": [],
      "source": [
        "import astropy.constants as const # imports the astropy constants(Python package to call the value of certain constants)\n",
        "import astropy.units as u # imports the astropy units library(Python package to call the value of certain units e.g., the mass of the Sun)\n"
      ]
    },
    {
      "cell_type": "code",
      "source": [
        "M = 1 * u.solMass #Define M as a physical quantity with units.\n",
        "print(M.to(u.kg)) # Print out M in units of kg"
      ],
      "metadata": {
        "colab": {
          "base_uri": "https://localhost:8080/"
        },
        "id": "zJum5E865uPo",
        "outputId": "96190757-27a1-4d39-9ed9-77ff00456c83"
      },
      "execution_count": null,
      "outputs": [
        {
          "output_type": "stream",
          "name": "stdout",
          "text": [
            "1.988409870698051e+30 kg\n"
          ]
        }
      ]
    },
    {
      "cell_type": "code",
      "source": [
        "R = 1 * u.au # Define R as a physical quantity with units.(Radius)\n",
        "print(R.to(u.km))"
      ],
      "metadata": {
        "colab": {
          "base_uri": "https://localhost:8080/"
        },
        "id": "LTEFPYFn7Oks",
        "outputId": "5475a060-73f2-4d90-f86e-82645eeb4e2b"
      },
      "execution_count": null,
      "outputs": [
        {
          "output_type": "stream",
          "name": "stdout",
          "text": [
            "149597870.7 km\n"
          ]
        }
      ]
    },
    {
      "cell_type": "code",
      "source": [
        "G = const.G #Define G as gravitational constant\n",
        "print(G.si) # Print out G in SI units\n"
      ],
      "metadata": {
        "colab": {
          "base_uri": "https://localhost:8080/"
        },
        "id": "sCorfOQr7bmy",
        "outputId": "7bb891b8-59e2-4bd3-a0fb-da3d24c36443"
      },
      "execution_count": null,
      "outputs": [
        {
          "output_type": "stream",
          "name": "stdout",
          "text": [
            "  Name   = Gravitational constant\n",
            "  Value  = 6.6743e-11\n",
            "  Uncertainty  = 1.5e-15\n",
            "  Unit  = m3 / (kg s2)\n",
            "  Reference = CODATA 2018\n"
          ]
        }
      ]
    },
    {
      "cell_type": "code",
      "source": [
        "import numpy as np # imports the numpy library which allows for the mathematical operations for the defined quantities."
      ],
      "metadata": {
        "id": "-MPA813n8vlq"
      },
      "execution_count": null,
      "outputs": []
    },
    {
      "cell_type": "code",
      "source": [
        "V = np.sqrt(G * M / R) # Calulating the oribital velocity based on the equation at the beginning .\n",
        "print(V.to(u.km/u.s)) # Print out V(orbital velocity) in units of km/s"
      ],
      "metadata": {
        "colab": {
          "base_uri": "https://localhost:8080/"
        },
        "id": "LZIErvE-7htK",
        "outputId": "66004713-e2fb-4cb3-fb59-b53c5ab7ce69"
      },
      "execution_count": null,
      "outputs": [
        {
          "output_type": "stream",
          "name": "stdout",
          "text": [
            "29.784691829676934 km / s\n"
          ]
        }
      ]
    },
    {
      "cell_type": "code",
      "source": [
        "R_jupiter = 5.2 * u.au # Define R_jupiter as a physical quantity with units"
      ],
      "metadata": {
        "id": "DCSdic2Q_lvW"
      },
      "execution_count": null,
      "outputs": []
    },
    {
      "cell_type": "code",
      "source": [
        "V_jupiter = np.sqrt(G * M / R_jupiter) # Calulating the oribital velocity based on the equation at the beginning .\n",
        "print(V_jupiter.to(u.km/u.s)) # Print out V(orbital velocity) in units of km/s"
      ],
      "metadata": {
        "colab": {
          "base_uri": "https://localhost:8080/"
        },
        "id": "46M8kHCr__uA",
        "outputId": "00b0f604-d689-4a7e-a4ec-b8558ebd90c9"
      },
      "execution_count": null,
      "outputs": [
        {
          "output_type": "stream",
          "name": "stdout",
          "text": [
            "13.061451410903354 km / s\n"
          ]
        }
      ]
    }
  ]
}