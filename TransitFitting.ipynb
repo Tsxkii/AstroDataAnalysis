{
  "nbformat": 4,
  "nbformat_minor": 0,
  "metadata": {
    "colab": {
      "provenance": [],
      "authorship_tag": "ABX9TyNqmJwohtvsk5wpzbg56VJ0",
      "include_colab_link": true
    },
    "kernelspec": {
      "name": "python3",
      "display_name": "Python 3"
    },
    "language_info": {
      "name": "python"
    }
  },
  "cells": [
    {
      "cell_type": "markdown",
      "metadata": {
        "id": "view-in-github",
        "colab_type": "text"
      },
      "source": [
        "<a href=\"https://colab.research.google.com/github/Tsxkii/AstroDataAnalysis/blob/main/TransitFitting.ipynb\" target=\"_parent\"><img src=\"https://colab.research.google.com/assets/colab-badge.svg\" alt=\"Open In Colab\"/></a>"
      ]
    },
    {
      "cell_type": "code",
      "execution_count": 7,
      "metadata": {
        "colab": {
          "base_uri": "https://localhost:8080/",
          "height": 73
        },
        "id": "uvDDokGRu5Ll",
        "outputId": "19d5003f-6d4f-4d29-cbc7-8f1ac834d380"
      },
      "outputs": [
        {
          "output_type": "display_data",
          "data": {
            "text/plain": [
              "<IPython.core.display.HTML object>"
            ],
            "text/html": [
              "\n",
              "     <input type=\"file\" id=\"files-7eb928b4-d295-4f93-a1f5-144fb935c4e9\" name=\"files[]\" multiple disabled\n",
              "        style=\"border:none\" />\n",
              "     <output id=\"result-7eb928b4-d295-4f93-a1f5-144fb935c4e9\">\n",
              "      Upload widget is only available when the cell has been executed in the\n",
              "      current browser session. Please rerun this cell to enable.\n",
              "      </output>\n",
              "      <script>// Copyright 2017 Google LLC\n",
              "//\n",
              "// Licensed under the Apache License, Version 2.0 (the \"License\");\n",
              "// you may not use this file except in compliance with the License.\n",
              "// You may obtain a copy of the License at\n",
              "//\n",
              "//      http://www.apache.org/licenses/LICENSE-2.0\n",
              "//\n",
              "// Unless required by applicable law or agreed to in writing, software\n",
              "// distributed under the License is distributed on an \"AS IS\" BASIS,\n",
              "// WITHOUT WARRANTIES OR CONDITIONS OF ANY KIND, either express or implied.\n",
              "// See the License for the specific language governing permissions and\n",
              "// limitations under the License.\n",
              "\n",
              "/**\n",
              " * @fileoverview Helpers for google.colab Python module.\n",
              " */\n",
              "(function(scope) {\n",
              "function span(text, styleAttributes = {}) {\n",
              "  const element = document.createElement('span');\n",
              "  element.textContent = text;\n",
              "  for (const key of Object.keys(styleAttributes)) {\n",
              "    element.style[key] = styleAttributes[key];\n",
              "  }\n",
              "  return element;\n",
              "}\n",
              "\n",
              "// Max number of bytes which will be uploaded at a time.\n",
              "const MAX_PAYLOAD_SIZE = 100 * 1024;\n",
              "\n",
              "function _uploadFiles(inputId, outputId) {\n",
              "  const steps = uploadFilesStep(inputId, outputId);\n",
              "  const outputElement = document.getElementById(outputId);\n",
              "  // Cache steps on the outputElement to make it available for the next call\n",
              "  // to uploadFilesContinue from Python.\n",
              "  outputElement.steps = steps;\n",
              "\n",
              "  return _uploadFilesContinue(outputId);\n",
              "}\n",
              "\n",
              "// This is roughly an async generator (not supported in the browser yet),\n",
              "// where there are multiple asynchronous steps and the Python side is going\n",
              "// to poll for completion of each step.\n",
              "// This uses a Promise to block the python side on completion of each step,\n",
              "// then passes the result of the previous step as the input to the next step.\n",
              "function _uploadFilesContinue(outputId) {\n",
              "  const outputElement = document.getElementById(outputId);\n",
              "  const steps = outputElement.steps;\n",
              "\n",
              "  const next = steps.next(outputElement.lastPromiseValue);\n",
              "  return Promise.resolve(next.value.promise).then((value) => {\n",
              "    // Cache the last promise value to make it available to the next\n",
              "    // step of the generator.\n",
              "    outputElement.lastPromiseValue = value;\n",
              "    return next.value.response;\n",
              "  });\n",
              "}\n",
              "\n",
              "/**\n",
              " * Generator function which is called between each async step of the upload\n",
              " * process.\n",
              " * @param {string} inputId Element ID of the input file picker element.\n",
              " * @param {string} outputId Element ID of the output display.\n",
              " * @return {!Iterable<!Object>} Iterable of next steps.\n",
              " */\n",
              "function* uploadFilesStep(inputId, outputId) {\n",
              "  const inputElement = document.getElementById(inputId);\n",
              "  inputElement.disabled = false;\n",
              "\n",
              "  const outputElement = document.getElementById(outputId);\n",
              "  outputElement.innerHTML = '';\n",
              "\n",
              "  const pickedPromise = new Promise((resolve) => {\n",
              "    inputElement.addEventListener('change', (e) => {\n",
              "      resolve(e.target.files);\n",
              "    });\n",
              "  });\n",
              "\n",
              "  const cancel = document.createElement('button');\n",
              "  inputElement.parentElement.appendChild(cancel);\n",
              "  cancel.textContent = 'Cancel upload';\n",
              "  const cancelPromise = new Promise((resolve) => {\n",
              "    cancel.onclick = () => {\n",
              "      resolve(null);\n",
              "    };\n",
              "  });\n",
              "\n",
              "  // Wait for the user to pick the files.\n",
              "  const files = yield {\n",
              "    promise: Promise.race([pickedPromise, cancelPromise]),\n",
              "    response: {\n",
              "      action: 'starting',\n",
              "    }\n",
              "  };\n",
              "\n",
              "  cancel.remove();\n",
              "\n",
              "  // Disable the input element since further picks are not allowed.\n",
              "  inputElement.disabled = true;\n",
              "\n",
              "  if (!files) {\n",
              "    return {\n",
              "      response: {\n",
              "        action: 'complete',\n",
              "      }\n",
              "    };\n",
              "  }\n",
              "\n",
              "  for (const file of files) {\n",
              "    const li = document.createElement('li');\n",
              "    li.append(span(file.name, {fontWeight: 'bold'}));\n",
              "    li.append(span(\n",
              "        `(${file.type || 'n/a'}) - ${file.size} bytes, ` +\n",
              "        `last modified: ${\n",
              "            file.lastModifiedDate ? file.lastModifiedDate.toLocaleDateString() :\n",
              "                                    'n/a'} - `));\n",
              "    const percent = span('0% done');\n",
              "    li.appendChild(percent);\n",
              "\n",
              "    outputElement.appendChild(li);\n",
              "\n",
              "    const fileDataPromise = new Promise((resolve) => {\n",
              "      const reader = new FileReader();\n",
              "      reader.onload = (e) => {\n",
              "        resolve(e.target.result);\n",
              "      };\n",
              "      reader.readAsArrayBuffer(file);\n",
              "    });\n",
              "    // Wait for the data to be ready.\n",
              "    let fileData = yield {\n",
              "      promise: fileDataPromise,\n",
              "      response: {\n",
              "        action: 'continue',\n",
              "      }\n",
              "    };\n",
              "\n",
              "    // Use a chunked sending to avoid message size limits. See b/62115660.\n",
              "    let position = 0;\n",
              "    do {\n",
              "      const length = Math.min(fileData.byteLength - position, MAX_PAYLOAD_SIZE);\n",
              "      const chunk = new Uint8Array(fileData, position, length);\n",
              "      position += length;\n",
              "\n",
              "      const base64 = btoa(String.fromCharCode.apply(null, chunk));\n",
              "      yield {\n",
              "        response: {\n",
              "          action: 'append',\n",
              "          file: file.name,\n",
              "          data: base64,\n",
              "        },\n",
              "      };\n",
              "\n",
              "      let percentDone = fileData.byteLength === 0 ?\n",
              "          100 :\n",
              "          Math.round((position / fileData.byteLength) * 100);\n",
              "      percent.textContent = `${percentDone}% done`;\n",
              "\n",
              "    } while (position < fileData.byteLength);\n",
              "  }\n",
              "\n",
              "  // All done.\n",
              "  yield {\n",
              "    response: {\n",
              "      action: 'complete',\n",
              "    }\n",
              "  };\n",
              "}\n",
              "\n",
              "scope.google = scope.google || {};\n",
              "scope.google.colab = scope.google.colab || {};\n",
              "scope.google.colab._files = {\n",
              "  _uploadFiles,\n",
              "  _uploadFilesContinue,\n",
              "};\n",
              "})(self);\n",
              "</script> "
            ]
          },
          "metadata": {}
        },
        {
          "output_type": "stream",
          "name": "stdout",
          "text": [
            "Saving HD209458b.txt to HD209458b.txt\n"
          ]
        }
      ],
      "source": [
        "from google.colab import files\n",
        "uploaded = files.upload()"
      ]
    },
    {
      "cell_type": "code",
      "source": [
        "# http://var2.astro.cz/EN/tresca/transit-detail.php?id=1535045428\n",
        "dat = astropy.io.ascii.read(\"HD209458b.txt\")\n",
        ""
      ],
      "metadata": {
        "id": "7akNWjXgvXh1"
      },
      "execution_count": 8,
      "outputs": []
    },
    {
      "cell_type": "code",
      "source": [
        "import numpy as np # Import the numpy library and assign it the alias 'np'\n",
        "import matplotlib.pyplot as plt # Import the matplotlib.pyplot module for plotting\n",
        "\n",
        "# Calculate the time values by subtracting the median of the 'col1' data\n",
        "# This centers the time data around zero.\n",
        "time = dat[\"col1\"] - np.median(dat[\"col1\"])\n",
        "rel_mag = dat[\"col2\"]\n",
        "flux = 2.514**(1.0 - rel_mag)\n",
        "err = dat[\"col3\"] # Extract the error values from the 'col3' column of the data table.\n",
        "plt.errorbar(time, flux, yerr=err, marker=\".\", color=\"black\", linestyle=\"none\")\n",
        "plt.xlabel(\"Time [day]\")\n",
        "plt.ylabel(\"Normalize Flux\")"
      ],
      "metadata": {
        "colab": {
          "base_uri": "https://localhost:8080/",
          "height": 466
        },
        "id": "-DeeSYwJv40g",
        "outputId": "143bf3dd-ef17-4d5e-8178-a3e03973fdd5"
      },
      "execution_count": 14,
      "outputs": [
        {
          "output_type": "execute_result",
          "data": {
            "text/plain": [
              "Text(0, 0.5, 'Normalize Flux')"
            ]
          },
          "metadata": {},
          "execution_count": 14
        },
        {
          "output_type": "display_data",
          "data": {
            "text/plain": [
              "<Figure size 640x480 with 1 Axes>"
            ],
            "image/png": "[encoded data removed]"
          },
          "metadata": {}
        }
      ]
    },
    {
      "source": [
        "def box_model(t, center_time, duration, depth, delta_flux):\n",
        "    \"\"\"\n",
        "    Generates a simple box-shaped transit model.\n",
        "\n",
        "    This function creates a light curve with a box-shaped transit signal.\n",
        "    It represents the relative flux of a star as a function of time.\n",
        "\n",
        "    Args:\n",
        "        t: Array of time values.\n",
        "        center_time: Time of the transit center.\n",
        "        duration: Duration of the transit.\n",
        "        depth: Depth of the transit (fractional decrease in flux).\n",
        "        delta_flux: Baseline flux level (usually 1.0 for normalized flux).\n",
        "\n",
        "    Returns:\n",
        "        Array of flux values corresponding to the input time values.\n",
        "    \"\"\"\n",
        "    f = np.zeros(np.shape(t)) # Ensured consistent indentation with 4 spaces\n",
        "    ind = np.where(np.abs(t - center_time) < (duration / 2.0)) # Ensured consistent indentation with 4 spaces\n",
        "    f[ind] = 1.0 + delta_flux - depth # Ensured consistent indentation with 4 spaces\n",
        "    ind = np.where(np.abs(t - center_time) >= (duration / 2.0)) # Ensured consistent indentation with 4 spaces\n",
        "    f[ind] = 1.0 + delta_flux # Ensured consistent indentation with 4 spaces\n",
        "    return(f) # Ensured consistent indentation with 4 spaces"
      ],
      "cell_type": "code",
      "metadata": {
        "id": "JXwrfy16yFC2"
      },
      "execution_count": 17,
      "outputs": []
    },
    {
      "source": [
        "# Import necessary libraries (assumed to be imported earlier in the notebook)\n",
        "# from google.colab import files\n",
        "# import astropy.io.ascii\n",
        "# import numpy as np\n",
        "# import matplotlib.pyplot as plt\n",
        "\n",
        "# ... (previous code) ...\n",
        "\n",
        "# Define parameters for the box-shaped transit model\n",
        "center_time, duration, depth, delta_flux = 0.0, 0.1, 0.02, 0.0\n",
        "\n",
        "# Generate the transit model using the box_model function\n",
        "model = box_model(time, center_time, duration, depth, delta_flux)\n",
        "\n",
        "# Create a plot to visualize the data and the model\n",
        "plt.errorbar(time, flux, yerr=err, marker=\".\", color=\"black\",\n",
        "             linestyle=\"none\", alpha=0.5, label=\"Data\")  # Plot the data with error bars\n",
        "plt.plot(time, model, color=\"red\", linewidth=3.0, label=\"Model\")  # Plot the model\n",
        "plt.xlabel(\"Time [day]\")  # Label the x-axis\n",
        "plt.ylabel(\"Normalize Flux\")  # Label the y-axis\n",
        "plt.legend();  # Display the legend"
      ],
      "cell_type": "code",
      "metadata": {
        "colab": {
          "base_uri": "https://localhost:8080/",
          "height": 449
        },
        "id": "dy01JGDhyfdk",
        "outputId": "4060b457-79ef-4c10-e975-2fae50eb5cb1"
      },
      "execution_count": 18,
      "outputs": [
        {
          "output_type": "display_data",
          "data": {
            "text/plain": [
              "<Figure size 640x480 with 1 Axes>"
            ],
            "image/png": "[encoded data removed]"
          },
          "metadata": {}
        }
      ]
    },
    {
      "cell_type": "code",
      "source": [
        "def log_likelihood(theta, x, y, yerr):\n",
        "    center_time, duration, depth, delta_flux = theta\n",
        "    model = box_model(time, center_time, duration, depth, delta_flux)\n",
        "    sigma2 = yerr**2\n",
        "    return -0.5 * np.sum((y - model) ** 2 / sigma2 + np.log(sigma2))\n",
        ""
      ],
      "metadata": {
        "id": "ayWeDwi5yhOA"
      },
      "execution_count": null,
      "outputs": []
    },
    {
      "cell_type": "code",
      "source": [
        "def log_prior(theta):\n",
        "    center_time, duration, depth, delta_flux = theta\n",
        "    if -0.05 < center_time < 0.05 and 0.0 < duration < 1.0 and 0.0 < depth < 1.0 and -0.1 < delta_flux < 0.1:\n",
        "        return 0.0\n",
        "    return -np.inf\n",
        "\n",
        "def log_probability(theta, x, y, yerr):\n",
        "    lp = log_prior(theta)\n",
        "    if not np.isfinite(lp):\n",
        "        return -np.inf\n",
        "    return lp + log_likelihood(theta, x, y, yerr)\n"
      ],
      "metadata": {
        "id": "A7BoK8CpyjkV"
      },
      "execution_count": null,
      "outputs": []
    },
    {
      "cell_type": "code",
      "source": [
        "! pip install -U emcee"
      ],
      "metadata": {
        "id": "3N6Lhv2HymGK"
      },
      "execution_count": null,
      "outputs": []
    },
    {
      "cell_type": "code",
      "source": [
        "import emcee\n",
        "\n",
        "pos = np.array([0.0, 0.1, 0.02, 0.0]) + 1e-4 * np.random.randn(32, 4)\n",
        "nwalkers, ndim = pos.shape\n",
        "\n",
        "sampler = emcee.EnsembleSampler(\n",
        "    nwalkers, ndim, log_probability, args=(time, flux, err)\n",
        ")\n",
        "sampler.run_mcmc(pos, 10000, progress=True);"
      ],
      "metadata": {
        "id": "2CoMqt_jyoEV"
      },
      "execution_count": null,
      "outputs": []
    },
    {
      "cell_type": "code",
      "source": [
        "fig, axes = plt.subplots(4, figsize=(10, 7), sharex=True)\n",
        "samples = sampler.get_chain()\n",
        "labels = [\"center_time\", \"duration\", \"depth\", \"delta_flux\"]\n",
        "for i in range(ndim):\n",
        "    ax = axes[i]\n",
        "    ax.plot(samples[:, :, i], \"k\", alpha=0.3)\n",
        "    ax.set_xlim(0, len(samples))\n",
        "    ax.set_ylabel(labels[i])\n",
        "    ax.yaxis.set_label_coords(-0.1, 0.5)\n",
        "\n",
        "axes[-1].set_xlabel(\"step number\");\n",
        ""
      ],
      "metadata": {
        "id": "4FDKG4PjysS7"
      },
      "execution_count": null,
      "outputs": []
    },
    {
      "cell_type": "code",
      "source": [
        "flat_samples = sampler.get_chain(discard=100, thin=50, flat=True)\n",
        "print(flat_samples.shape)"
      ],
      "metadata": {
        "id": "4r46pS_0ywmc"
      },
      "execution_count": null,
      "outputs": []
    },
    {
      "cell_type": "code",
      "source": [
        "! pip install corner\n"
      ],
      "metadata": {
        "id": "sfKYlR-Iy05m"
      },
      "execution_count": null,
      "outputs": []
    },
    {
      "cell_type": "code",
      "source": [
        "import corner\n",
        "fig = corner.corner(flat_samples, labels=labels);\n",
        ""
      ],
      "metadata": {
        "id": "cy5K7U_qy3TW"
      },
      "execution_count": null,
      "outputs": []
    },
    {
      "cell_type": "code",
      "source": [
        "inds = np.random.randint(len(flat_samples), size=100)\n",
        "for ind in inds:\n",
        "    sample = flat_samples[ind]\n",
        "    center_time, duration, depth, delta_flux = sample\n",
        "    plt.plot(time, box_model(time, center_time, duration, depth, delta_flux), color=\"red\", alpha=0.1)\n",
        "plt.errorbar(time, flux, yerr=err, marker=\".\", color=\"black\", linestyle=\"none\", alpha=0.5, label=\"Data\")\n",
        "plt.legend(fontsize=14)\n",
        "plt.xlabel(\"Time [day]\")\n",
        "plt.ylabel(\"Normalize Flux\");"
      ],
      "metadata": {
        "id": "16wVPGG_y5mA"
      },
      "execution_count": null,
      "outputs": []
    },
    {
      "cell_type": "code",
      "source": [
        "from IPython.display import display, Math\n",
        "\n",
        "for i in range(ndim):\n",
        "    mcmc = np.percentile(flat_samples[:, i], [16, 50, 84])\n",
        "    q = np.diff(mcmc)\n",
        "    txt = \"\\mathrm{{{3}}} = {0:.5f}_{{-{1:.5f}}}^{{{2:.5f}}}\"\n",
        "    txt = txt.format(mcmc[1], q[0], q[1], labels[i])\n",
        "    display(Math(txt))"
      ],
      "metadata": {
        "id": "PBsMmKOiy8ff"
      },
      "execution_count": null,
      "outputs": []
    },
    {
      "cell_type": "code",
      "source": [
        "from matplotlib import gridspec\n",
        "fig = plt.figure(figsize=(8, 10))\n",
        "gs = gridspec.GridSpec(4, 1)\n",
        "\n",
        "ax = fig.add_subplot(gs[1:3])\n",
        "center_time, duration, depth, delta_flux = np.percentile(flat_samples, 50, axis=0)\n",
        "model = box_model(time, center_time, duration, depth, delta_flux)\n",
        "plt.errorbar(time, flux, yerr=err, marker=\".\", color=\"black\", linestyle=\"none\", alpha=0.5, label=\"Data\")\n",
        "plt.plot(time, model, color=\"red\", linewidth=3.0, label=\"Best-Fit Model\")\n",
        "plt.xlabel(\"Time [day]\")\n",
        "plt.ylabel(\"Normalize Flux\")\n",
        "plt.legend();\n",
        "\n",
        "ax = fig.add_subplot(gs[-1])\n",
        "plt.errorbar(time, flux - model, yerr=err, marker=\".\", color=\"black\", linestyle=\"none\", alpha=0.5)\n",
        "plt.hlines(0, np.min(time), np.max(time), linestyle=\"dashed\", linewidth=3.0, color=\"black\", alpha=0.5)\n",
        ""
      ],
      "metadata": {
        "id": "-s253ZqHzBLz"
      },
      "execution_count": null,
      "outputs": []
    },
    {
      "cell_type": "code",
      "source": [
        "def calculate_reduced_Chi2(flux, model, err, num_parameters):\n",
        "  degree_freedom = len(flux) - num_parameters\n",
        "  rChi2 = np.sum((flux - model)**2 / err**2) / degree_freedom\n",
        "  return(rChi2)"
      ],
      "metadata": {
        "id": "JahVwQnEzE99"
      },
      "execution_count": null,
      "outputs": []
    },
    {
      "cell_type": "code",
      "source": [
        "print(\"Reduced Chi2 = \", calculate_reduced_Chi2(flux, model, err, 4))"
      ],
      "metadata": {
        "id": "4at-zPi-zIkx"
      },
      "execution_count": null,
      "outputs": []
    },
    {
      "cell_type": "code",
      "source": [
        "def trapezoid_model(t, center_time, duration, depth, delta_flux, ingress):\n",
        "  f = np.zeros(np.shape(t))\n",
        "  ind = np.where(np.abs(t - center_time) < (duration / 2.0))\n",
        "  f[ind] = 1.0 + delta_flux - depth\n",
        "  ind = np.where(np.abs(t - center_time) >= (duration / 2.0 + ingress))\n",
        "  f[ind] = 1.0 + delta_flux\n",
        "  ind = np.where((np.abs(t - center_time) <= (duration / 2.0 + ingress)) & (np.abs(t - center_time) > (duration / 2.0)))\n",
        "  for i in ind[0]:\n",
        "    delta_t = np.abs(np.abs(t[i] - center_time) - (duration / 2.0))\n",
        "    f[i] = depth / ingress * delta_t + 1.0 + delta_flux - depth\n",
        "  return(f)"
      ],
      "metadata": {
        "id": "0d19yASSzLw9"
      },
      "execution_count": null,
      "outputs": []
    },
    {
      "cell_type": "code",
      "source": [
        "center_time, duration, depth, delta_flux, ingress = 0.0, 0.1, 0.02, 0.0, 0.025\n",
        "model = trapezoid_model(time, center_time, duration, depth, delta_flux, ingress)\n",
        "plt.errorbar(time, flux, yerr=err, marker=\".\", color=\"black\", linestyle=\"none\", alpha=0.5, label=\"Data\")\n",
        "plt.plot(time, model, color=\"red\", linewidth=3.0, label=\"Model\")\n",
        "plt.xlabel(\"Time [day]\")\n",
        "plt.ylabel(\"Normalize Flux\")\n",
        "plt.legend();"
      ],
      "metadata": {
        "id": "JCqQb-lVzUYp"
      },
      "execution_count": null,
      "outputs": []
    },
    {
      "cell_type": "code",
      "source": [
        "def log_likelihood(theta, x, y, yerr):\n",
        "    center_time, duration, depth, delta_flux, ingress = theta\n",
        "    model = trapezoid_model(time, center_time, duration, depth, delta_flux, ingress)\n",
        "    sigma2 = yerr**2\n",
        "    return -0.5 * np.sum((y - model) ** 2 / sigma2 + np.log(sigma2))\n",
        "\n",
        "def log_prior(theta):\n",
        "    center_time, duration, depth, delta_flux, ingress = theta\n",
        "    if -0.05 < center_time < 0.05 and 0.0 < duration < 1.0 and 0.0 < depth < 1.0 \\\n",
        "      and -0.1 < delta_flux < 0.1 and 0.0 < ingress < 0.1:\n",
        "        return 0.0\n",
        "    return -np.inf\n",
        "\n",
        "def log_probability(theta, x, y, yerr):\n",
        "    lp = log_prior(theta)\n",
        "    if not np.isfinite(lp):\n",
        "        return -np.inf\n",
        "    return lp + log_likelihood(theta, x, y, yerr)\n",
        ""
      ],
      "metadata": {
        "id": "uFd2IOU1zY5Q"
      },
      "execution_count": null,
      "outputs": []
    },
    {
      "cell_type": "code",
      "source": [
        "import emcee\n",
        "\n",
        "pos = np.array([0.0, 0.1, 0.02, 0.0, 0.025]) + 1e-4 * np.random.randn(32, 5)\n",
        "nwalkers, ndim = pos.shape\n",
        "\n",
        "sampler = emcee.EnsembleSampler(\n",
        "    nwalkers, ndim, log_probability, args=(time, flux, err)\n",
        ")\n",
        "sampler.run_mcmc(pos, 5000, progress=True);"
      ],
      "metadata": {
        "id": "7oUVJRiazcWi"
      },
      "execution_count": null,
      "outputs": []
    },
    {
      "cell_type": "code",
      "source": [
        "fig, axes = plt.subplots(5, figsize=(10, 7), sharex=True)\n",
        "samples = sampler.get_chain()\n",
        "labels = [\"center_time\", \"duration\", \"depth\", \"delta_flux\", \"ingress\"]\n",
        "for i in range(ndim):\n",
        "    ax = axes[i]\n",
        "    ax.plot(samples[:, :, i], \"k\", alpha=0.3)\n",
        "    ax.set_xlim(0, len(samples))\n",
        "    ax.set_ylabel(labels[i])\n",
        "    ax.yaxis.set_label_coords(-0.1, 0.5)\n",
        "\n",
        "axes[-1].set_xlabel(\"step number\");\n",
        ""
      ],
      "metadata": {
        "id": "b4IS70_AzgaB"
      },
      "execution_count": null,
      "outputs": []
    },
    {
      "cell_type": "code",
      "source": [
        "flat_samples = sampler.get_chain(discard=100, thin=50, flat=True)\n",
        "print(flat_samples.shape)\n",
        "\n",
        "import corner\n",
        "fig = corner.corner(flat_samples, labels=labels);"
      ],
      "metadata": {
        "id": "BV6YrAfezjQ7"
      },
      "execution_count": null,
      "outputs": []
    }
  ]
}